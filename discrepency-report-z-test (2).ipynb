{
 "cells": [
  {
   "cell_type": "markdown",
   "id": "6fccde0c",
   "metadata": {},
   "source": [
    "# Upload CSV File"
   ]
  },
  {
   "cell_type": "code",
   "execution_count": 40,
   "id": "6cec1e8a",
   "metadata": {},
   "outputs": [],
   "source": [
    "import pandas as pd\n",
    "import numpy as np\n",
    "from statsmodels.stats.proportion import proportions_ztest\n",
    "\n",
    "# Load the CSV file into a pandas dataframe\n",
    "df = pd.read_csv('file-path-name', header = 0)\n",
    "# Print the first five rows of the dataframe"
   ]
  },
  {
   "cell_type": "markdown",
   "id": "d47d923b",
   "metadata": {},
   "source": [
    "# Drop Nan and Convert to Float"
   ]
  },
  {
   "cell_type": "code",
   "execution_count": 42,
   "id": "808340d1",
   "metadata": {},
   "outputs": [],
   "source": [
    "df.dropna()\n",
    "df['p1'] = df['p1'].astype(float)\n",
    "df['p2'] = df['p2'].astype(float)\n",
    "df['n1'] = df['n1'].astype(float)\n",
    "df['n2'] = df['n2'].astype(float)\n",
    "# df.dtypes"
   ]
  },
  {
   "cell_type": "markdown",
   "id": "8a6ddb8c",
   "metadata": {},
   "source": [
    "# Run Ztest and Calculate Zscore + Pvalues"
   ]
  },
  {
   "cell_type": "code",
   "execution_count": 43,
   "id": "1d94df31",
   "metadata": {},
   "outputs": [],
   "source": [
    "stats = []\n",
    "p_values = []\n",
    "for i in range(len(df['p1'])):\n",
    "    successes = np.array([df['p1'][i], df['p2'][i]])\n",
    "    samples = np.array([float(df['n1'][i]), float(df['n2'][i])])\n",
    "    stat, p_value = proportions_ztest(count=successes, nobs=samples,  alternative='two-sided')\n",
    "    stats.append(stat)\n",
    "    p_values.append(p_value)\n",
    "df['z_score'] = stats\n",
    "df['p_value'] = p_values"
   ]
  },
  {
   "cell_type": "markdown",
   "id": "e3917963",
   "metadata": {},
   "source": [
    "# Download New Data"
   ]
  },
  {
   "cell_type": "code",
   "execution_count": 37,
   "id": "138db8fa",
   "metadata": {},
   "outputs": [],
   "source": [
    "df.to_csv('file-path-name-NEW', index=False)"
   ]
  }
 ],
 "metadata": {
  "kernelspec": {
   "display_name": "Python 3 (ipykernel)",
   "language": "python",
   "name": "python3"
  },
  "language_info": {
   "codemirror_mode": {
    "name": "ipython",
    "version": 3
   },
   "file_extension": ".py",
   "mimetype": "text/x-python",
   "name": "python",
   "nbconvert_exporter": "python",
   "pygments_lexer": "ipython3",
   "version": "3.10.9"
  }
 },
 "nbformat": 4,
 "nbformat_minor": 5
}
