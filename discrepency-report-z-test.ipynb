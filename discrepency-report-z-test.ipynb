{
 "cells": [
  {
   "cell_type": "code",
   "execution_count": 34,
   "id": "360eea3e",
   "metadata": {},
   "outputs": [
    {
     "name": "stdout",
     "output_type": "stream",
     "text": [
      "  service_type_name get_garment_type_name month  year  \\\n",
      "0         Dry Clean                 Apron   Apr    22   \n",
      "1         Dry Clean                 Apron   Apr    22   \n",
      "2         Dry Clean                 Apron   Apr    23   \n",
      "3         Dry Clean                 Apron   Apr    22   \n",
      "4         Dry Clean                 Apron   Apr    23   \n",
      "\n",
      "     cleaner_ticket_vendor_name  count      n1       n2   p1   p2  \n",
      "0           7 Brothers Cleaners      1  8530.0   9919.0  1.0  6.0  \n",
      "1  Campbell Cleaners (Greenest)      2  7110.0      NaN  2.0  NaN  \n",
      "2           7 Brothers Cleaners      6     NaN      NaN  NaN  NaN  \n",
      "3              A Touch of Class      1  7731.0  11015.0  1.0  1.0  \n",
      "4             Spot Dry Cleaners      8     NaN      NaN  NaN  NaN  \n"
     ]
    }
   ],
   "source": [
    "import pandas as pd\n",
    "import numpy as np\n",
    "from scipy.stats import chi2_contingency\n",
    "from bioinfokit.analys import stat, get_data\n",
    "from scipy.stats import ttest_rel\n",
    "from statsmodels.stats.proportion import proportions_ztest\n",
    "\n",
    "# Load the CSV file into a pandas dataframe\n",
    "df = pd.read_csv('/Users/jbell/Desktop/discrepancy-report/Discrepency Report v2 - CSV_Download.csv', header = 0)\n",
    "# Print the first five rows of the dataframe\n",
    "print(df.head())"
   ]
  },
  {
   "cell_type": "code",
   "execution_count": 35,
   "id": "808340d1",
   "metadata": {},
   "outputs": [
    {
     "data": {
      "text/plain": [
       "service_type_name              object\n",
       "get_garment_type_name          object\n",
       "month                          object\n",
       "year                            int64\n",
       "cleaner_ticket_vendor_name     object\n",
       "count                           int64\n",
       "n1                            float64\n",
       "n2                            float64\n",
       "p1                            float64\n",
       "p2                            float64\n",
       "dtype: object"
      ]
     },
     "execution_count": 35,
     "metadata": {},
     "output_type": "execute_result"
    }
   ],
   "source": [
    "df.dropna()\n",
    "df['p1'] = df['p1'].astype(float)\n",
    "df['p2'] = df['p2'].astype(float)\n",
    "df['n1'] = df['n1'].astype(float)\n",
    "df['n2'] = df['n2'].astype(float)\n",
    "df.dtypes"
   ]
  },
  {
   "cell_type": "code",
   "execution_count": 36,
   "id": "1d94df31",
   "metadata": {},
   "outputs": [
    {
     "name": "stdout",
     "output_type": "stream",
     "text": [
      "0      -1.695761\n",
      "1            NaN\n",
      "2            NaN\n",
      "3       0.251652\n",
      "4            NaN\n",
      "          ...   \n",
      "1088         NaN\n",
      "1089    0.251652\n",
      "1090         NaN\n",
      "1091         NaN\n",
      "1092         NaN\n",
      "Name: z_score, Length: 1093, dtype: float64\n",
      "0       0.089931\n",
      "1            NaN\n",
      "2            NaN\n",
      "3       0.801310\n",
      "4            NaN\n",
      "          ...   \n",
      "1088         NaN\n",
      "1089    0.801310\n",
      "1090         NaN\n",
      "1091         NaN\n",
      "1092         NaN\n",
      "Name: p_value, Length: 1093, dtype: float64\n"
     ]
    }
   ],
   "source": [
    "stats = []\n",
    "p_values = []\n",
    "for i in range(len(df['p1'])):\n",
    "    successes = np.array([df['p1'][i], df['p2'][i]])\n",
    "    samples = np.array([float(df['n1'][i]), float(df['n2'][i])])\n",
    "    stat, p_value = proportions_ztest(count=successes, nobs=samples,  alternative='two-sided')\n",
    "    stats.append(stat)\n",
    "    p_values.append(p_value)\n",
    "df['z_score'] = stats\n",
    "df['p_value'] = p_values\n",
    "print(df['z_score'])\n",
    "print(df['p_value'])"
   ]
  },
  {
   "cell_type": "code",
   "execution_count": 37,
   "id": "138db8fa",
   "metadata": {},
   "outputs": [],
   "source": [
    "df.to_csv('/Users/jbell/Desktop/discrepancy-report/discrepency-report-new.csv', index=False)"
   ]
  },
  {
   "cell_type": "code",
   "execution_count": null,
   "id": "bb39496e",
   "metadata": {},
   "outputs": [],
   "source": []
  }
 ],
 "metadata": {
  "kernelspec": {
   "display_name": "Python 3 (ipykernel)",
   "language": "python",
   "name": "python3"
  },
  "language_info": {
   "codemirror_mode": {
    "name": "ipython",
    "version": 3
   },
   "file_extension": ".py",
   "mimetype": "text/x-python",
   "name": "python",
   "nbconvert_exporter": "python",
   "pygments_lexer": "ipython3",
   "version": "3.10.9"
  }
 },
 "nbformat": 4,
 "nbformat_minor": 5
}
